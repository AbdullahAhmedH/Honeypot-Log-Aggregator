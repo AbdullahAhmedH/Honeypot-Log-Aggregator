{
 "cells": [
  {
   "cell_type": "markdown",
   "id": "69c26d63",
   "metadata": {},
   "source": [
    "## Import Necessary Libraries"
   ]
  },
  {
   "cell_type": "code",
   "execution_count": 1,
   "id": "deedacef",
   "metadata": {
    "scrolled": true
   },
   "outputs": [],
   "source": [
    "import pandas as pd\n",
    "from xgboost import XGBClassifier\n",
    "import re\n",
    "import pickle\n",
    "from sklearn.feature_extraction.text import CountVectorizer\n",
    "from sklearn.model_selection import train_test_split\n",
    "from sklearn.metrics import classification_report, accuracy_score"
   ]
  },
  {
   "cell_type": "code",
   "execution_count": 13,
   "id": "077fc88a",
   "metadata": {},
   "outputs": [
    {
     "name": "stdout",
     "output_type": "stream",
     "text": [
      "Requirement already satisfied: xgboost in c:\\python312\\lib\\site-packages (2.1.3)\n",
      "Requirement already satisfied: numpy in c:\\users\\abdullah ahmed h\\appdata\\roaming\\python\\python312\\site-packages (from xgboost) (1.26.4)\n",
      "Requirement already satisfied: scipy in c:\\python312\\lib\\site-packages (from xgboost) (1.15.1)\n"
     ]
    },
    {
     "name": "stderr",
     "output_type": "stream",
     "text": [
      "WARNING: Ignoring invalid distribution ~ip (C:\\Python312\\Lib\\site-packages)\n",
      "WARNING: Ignoring invalid distribution ~ip (C:\\Python312\\Lib\\site-packages)\n",
      "WARNING: Ignoring invalid distribution ~ip (C:\\Python312\\Lib\\site-packages)\n"
     ]
    }
   ],
   "source": [
    "!pip install xgboost --user"
   ]
  },
  {
   "cell_type": "markdown",
   "id": "1e488832",
   "metadata": {},
   "source": [
    "## Parse and Preprocess the Logs"
   ]
  },
  {
   "cell_type": "code",
   "execution_count": 23,
   "id": "3fe53fc6",
   "metadata": {},
   "outputs": [
    {
     "name": "stdout",
     "output_type": "stream",
     "text": [
      "Processing file: log1.txt\n",
      "Processing file: log2.txt\n",
      "Processing file: log3.txt\n",
      "           timestamp   service  \\\n",
      "0  25012025 05:22:03      pptp   \n",
      "1  25012025 05:22:03  services   \n",
      "2  25012025 05:22:03      pptp   \n",
      "3  25012025 05:22:03  services   \n",
      "4  25012025 05:22:58      http   \n",
      "\n",
      "                                             message  \n",
      "0  /dionaea/pptp/pptp.py:52: No config provided. ...  \n",
      "1   /dionaea/services.py:46: Unable to start service  \n",
      "2  /dionaea/pptp/pptp.py:52: No config provided. ...  \n",
      "3   /dionaea/services.py:46: Unable to start service  \n",
      "4  /dionaea/http.py:133: max_num_fields is only s...  \n"
     ]
    }
   ],
   "source": [
    "import re\n",
    "import pandas as pd\n",
    "\n",
    "def remove_ansi_codes(log_line):\n",
    "    # Remove ANSI escape sequences\n",
    "    return re.sub(r'\\x1b\\[[0-9;]*[a-zA-Z]', '', log_line)\n",
    "\n",
    "def parse_logs_fixed(log_files):\n",
    "    data = []\n",
    "    for file in log_files:\n",
    "        print(f\"Processing file: {file}\")\n",
    "        with open(file, 'r') as f:\n",
    "            for line in f:\n",
    "                # Remove ANSI escape codes\n",
    "                cleaned_line = remove_ansi_codes(line)\n",
    "                \n",
    "                # Extract relevant fields\n",
    "                timestamp = re.search(r\"\\[\\d{8}\\s+\\d{2}:\\d{2}:\\d{2}\\]\", cleaned_line)\n",
    "                service = re.search(r\"\\]\\s+(\\w+)\", cleaned_line)  # Service is the first word after timestamp\n",
    "                message = re.search(r\"(/dionaea/.*)\", cleaned_line)\n",
    "\n",
    "                # Append extracted data if all fields are present\n",
    "                if timestamp and service and message:\n",
    "                    data.append({\n",
    "                        \"timestamp\": timestamp.group(0).strip(\"[]\"),\n",
    "                        \"service\": service.group(1),\n",
    "                        \"message\": message.group(1)\n",
    "                    })\n",
    "    return pd.DataFrame(data)\n",
    "\n",
    "# Parse the logs\n",
    "log_files = [\"log1.txt\", \"log2.txt\", \"log3.txt\"]\n",
    "df = parse_logs_fixed(log_files)\n",
    "print(df.head())\n"
   ]
  },
  {
   "cell_type": "markdown",
   "id": "4ed9c2e9",
   "metadata": {},
   "source": [
    "## Label the Data"
   ]
  },
  {
   "cell_type": "code",
   "execution_count": 24,
   "id": "8610764f",
   "metadata": {},
   "outputs": [
    {
     "name": "stdout",
     "output_type": "stream",
     "text": [
      "Labeled Logs:\n",
      "           timestamp   service  \\\n",
      "0  25012025 05:22:03      pptp   \n",
      "1  25012025 05:22:03  services   \n",
      "2  25012025 05:22:03      pptp   \n",
      "3  25012025 05:22:03  services   \n",
      "4  25012025 05:22:58      http   \n",
      "\n",
      "                                             message   attack_type  \n",
      "0  /dionaea/pptp/pptp.py:52: No config provided. ...    SIP Attack  \n",
      "1   /dionaea/services.py:46: Unable to start service  Other Attack  \n",
      "2  /dionaea/pptp/pptp.py:52: No config provided. ...    SIP Attack  \n",
      "3   /dionaea/services.py:46: Unable to start service  Other Attack  \n",
      "4  /dionaea/http.py:133: max_num_fields is only s...   HTTP Attack  \n"
     ]
    }
   ],
   "source": [
    "# Function to label logs\n",
    "def label_logs(df):\n",
    "    def label(row):\n",
    "        service = row['service'].lower()\n",
    "        message = row['message'].lower()\n",
    "\n",
    "        if 'http' in service or 'http' in message:\n",
    "            if 'sql' in message or 'injection' in message:\n",
    "                return 'SQL Injection'\n",
    "            elif 'xss' in message or 'script' in message:\n",
    "                return 'Cross-Site Scripting'\n",
    "            else:\n",
    "                return 'HTTP Attack'\n",
    "        elif 'ftp' in service or 'ftp' in message:\n",
    "            return 'FTP Attack'\n",
    "        elif 'sip' in service or 'pptp' in service or 'pptp' in message:\n",
    "            return 'SIP Attack'\n",
    "        elif 'ssh' in service or 'brute' in message:\n",
    "            return 'SSH Attack'\n",
    "        elif 'dns' in service or 'dns' in message:\n",
    "            return 'DNS Attack'\n",
    "        elif 'log_sqlite' in service or 'log_sqlite' in message:\n",
    "            return 'Log_SQLite Attack'\n",
    "        elif 'download' in message or 'malware' in message:\n",
    "            return 'Malware Download'\n",
    "        else:\n",
    "            return 'Other Attack'\n",
    "    \n",
    "    df['attack_type'] = df.apply(label, axis=1)\n",
    "    return df\n",
    "\n",
    "# Apply labeling function\n",
    "df_labeled = label_logs(df)\n",
    "\n",
    "# Display labeled logs\n",
    "print(\"Labeled Logs:\")\n",
    "print(df_labeled.head())\n"
   ]
  },
  {
   "cell_type": "code",
   "execution_count": 25,
   "id": "c169ef79",
   "metadata": {},
   "outputs": [
    {
     "name": "stdout",
     "output_type": "stream",
     "text": [
      "              timestamp     service  \\\n",
      "5     25012025 05:22:58  log_sqlite   \n",
      "58    25012025 05:25:55  log_sqlite   \n",
      "87    25012025 05:27:10  log_sqlite   \n",
      "88    25012025 05:27:10  log_sqlite   \n",
      "89    25012025 05:27:10  log_sqlite   \n",
      "...                 ...         ...   \n",
      "6326  27012025 12:33:28  log_sqlite   \n",
      "6330  27012025 13:00:07  log_sqlite   \n",
      "6331  27012025 13:04:58  log_sqlite   \n",
      "6334  27012025 13:30:58  log_sqlite   \n",
      "6337  27012025 13:37:00  log_sqlite   \n",
      "\n",
      "                                                message        attack_type  \n",
      "5     /dionaea/logsql.py:747: no attackid for 172.17...  Log_SQLite Attack  \n",
      "58    /dionaea/logsql.py:747: no attackid for 172.17...  Log_SQLite Attack  \n",
      "87    /dionaea/logsql.py:747: no attackid for 172.17...  Log_SQLite Attack  \n",
      "88    /dionaea/logsql.py:747: no attackid for 172.17...  Log_SQLite Attack  \n",
      "89    /dionaea/logsql.py:747: no attackid for 172.17...  Log_SQLite Attack  \n",
      "...                                                 ...                ...  \n",
      "6326  /dionaea/logsql.py:747: no attackid for 172.17...  Log_SQLite Attack  \n",
      "6330  /dionaea/logsql.py:747: no attackid for 172.17...  Log_SQLite Attack  \n",
      "6331  /dionaea/logsql.py:747: no attackid for 172.17...  Log_SQLite Attack  \n",
      "6334  /dionaea/logsql.py:747: no attackid for 172.17...  Log_SQLite Attack  \n",
      "6337  /dionaea/logsql.py:747: no attackid for 172.17...  Log_SQLite Attack  \n",
      "\n",
      "[3417 rows x 4 columns]\n"
     ]
    }
   ],
   "source": [
    "df_labeled = label_logs(df)\n",
    "\n",
    "# Check if 'log_sqlite' logs are labeled correctly\n",
    "print(df_labeled[df_labeled['service'].str.contains('log_sqlite', case=False) | \n",
    "                 df_labeled['message'].str.contains('log_sqlite', case=False)])"
   ]
  },
  {
   "cell_type": "markdown",
   "id": "00e48b20",
   "metadata": {},
   "source": [
    "## Prepare Data for Model Training"
   ]
  },
  {
   "cell_type": "markdown",
   "id": "3db8b8c5",
   "metadata": {},
   "source": [
    "### Vectorize the message Column"
   ]
  },
  {
   "cell_type": "code",
   "execution_count": 26,
   "id": "dcabc34c",
   "metadata": {},
   "outputs": [],
   "source": [
    "# Vectorize the 'message' column\n",
    "vectorizer = CountVectorizer(max_features=1000)\n",
    "X = vectorizer.fit_transform(df_labeled['message']).toarray()\n"
   ]
  },
  {
   "cell_type": "markdown",
   "id": "67004f3a",
   "metadata": {},
   "source": [
    "### Encode the attack_type Labels"
   ]
  },
  {
   "cell_type": "code",
   "execution_count": 27,
   "id": "5440df8c",
   "metadata": {},
   "outputs": [],
   "source": [
    "# Encode the attack_type column\n",
    "df_labeled['attack_type_encoded'] = df_labeled['attack_type'].factorize()[0]\n",
    "y = df_labeled['attack_type_encoded']"
   ]
  },
  {
   "cell_type": "markdown",
   "id": "4d0c7022",
   "metadata": {},
   "source": [
    "### Split the Data into Training and Testing Sets"
   ]
  },
  {
   "cell_type": "code",
   "execution_count": 28,
   "id": "e5ebffac",
   "metadata": {},
   "outputs": [],
   "source": [
    "# Split into training and testing sets\n",
    "X_train, X_test, y_train, y_test = train_test_split(X, y, test_size=0.2, random_state=42)\n"
   ]
  },
  {
   "cell_type": "markdown",
   "id": "59db901d",
   "metadata": {},
   "source": [
    "### Train the Model Using XGBoost"
   ]
  },
  {
   "cell_type": "code",
   "execution_count": 29,
   "id": "04d70c20",
   "metadata": {},
   "outputs": [
    {
     "name": "stderr",
     "output_type": "stream",
     "text": [
      "C:\\Users\\hp\\anaconda3\\libs\\New folder\\lib\\site-packages\\xgboost\\core.py:158: UserWarning: [11:04:20] WARNING: C:\\buildkite-agent\\builds\\buildkite-windows-cpu-autoscaling-group-i-0c55ff5f71b100e98-1\\xgboost\\xgboost-ci-windows\\src\\learner.cc:740: \n",
      "Parameters: { \"use_label_encoder\" } are not used.\n",
      "\n",
      "  warnings.warn(smsg, UserWarning)\n"
     ]
    },
    {
     "name": "stdout",
     "output_type": "stream",
     "text": [
      "XGBoost Model Training Complete!\n"
     ]
    }
   ],
   "source": [
    "# Initialize and train XGBoost\n",
    "model = XGBClassifier(use_label_encoder=False, eval_metric='mlogloss', random_state=42)\n",
    "model.fit(X_train, y_train)\n",
    "\n",
    "print(\"XGBoost Model Training Complete!\")\n"
   ]
  },
  {
   "cell_type": "markdown",
   "id": "0359f8ee",
   "metadata": {},
   "source": [
    "### Evaluate the Model"
   ]
  },
  {
   "cell_type": "code",
   "execution_count": 30,
   "id": "e0c3b516",
   "metadata": {},
   "outputs": [
    {
     "name": "stdout",
     "output_type": "stream",
     "text": [
      "Accuracy: 1.0\n",
      "\n",
      "Classification Report:\n",
      "                    precision    recall  f1-score   support\n",
      "\n",
      "       SIP Attack       1.00      1.00      1.00         2\n",
      "     Other Attack       1.00      1.00      1.00        25\n",
      "      HTTP Attack       1.00      1.00      1.00       505\n",
      "Log_SQLite Attack       1.00      1.00      1.00       685\n",
      "       FTP Attack       1.00      1.00      1.00        52\n",
      "\n",
      "         accuracy                           1.00      1269\n",
      "        macro avg       1.00      1.00      1.00      1269\n",
      "     weighted avg       1.00      1.00      1.00      1269\n",
      "\n"
     ]
    }
   ],
   "source": [
    "# Make predictions on the test set\n",
    "y_pred = model.predict(X_test)\n",
    "\n",
    "# Evaluate the model\n",
    "print(\"Accuracy:\", accuracy_score(y_test, y_pred))\n",
    "print(\"\\nClassification Report:\\n\", classification_report(y_test, y_pred, target_names=df_labeled['attack_type'].unique()))\n"
   ]
  },
  {
   "cell_type": "markdown",
   "id": "ba0985b7",
   "metadata": {},
   "source": [
    "### Save the Model and Vectorizer for Future Use"
   ]
  },
  {
   "cell_type": "code",
   "execution_count": 31,
   "id": "5c7a26c8",
   "metadata": {},
   "outputs": [
    {
     "name": "stdout",
     "output_type": "stream",
     "text": [
      "Model and vectorizer saved successfully!\n"
     ]
    }
   ],
   "source": [
    "# Save the model and vectorizer\n",
    "with open('xgboost_attack_model.pkl', 'wb') as f:\n",
    "    pickle.dump(model, f)\n",
    "\n",
    "with open('vectorizer.pkl', 'wb') as f:\n",
    "    pickle.dump(vectorizer, f)\n",
    "\n",
    "print(\"Model and vectorizer saved successfully!\")\n"
   ]
  },
  {
   "cell_type": "markdown",
   "id": "64b3c67c",
   "metadata": {},
   "source": [
    "## Predict Attack Types for a New Log File"
   ]
  },
  {
   "cell_type": "markdown",
   "id": "1e7032bf",
   "metadata": {},
   "source": [
    "### Load the Model and Vectorizer"
   ]
  },
  {
   "cell_type": "code",
   "execution_count": 5,
   "id": "2f069bb6",
   "metadata": {},
   "outputs": [
    {
     "name": "stderr",
     "output_type": "stream",
     "text": [
      "C:\\Python312\\Lib\\site-packages\\sklearn\\base.py:380: InconsistentVersionWarning: Trying to unpickle estimator CountVectorizer from version 1.2.1 when using version 1.6.1. This might lead to breaking code or invalid results. Use at your own risk. For more info please refer to:\n",
      "https://scikit-learn.org/stable/model_persistence.html#security-maintainability-limitations\n",
      "  warnings.warn(\n"
     ]
    }
   ],
   "source": [
    "# Load the saved model and vectorizer\n",
    "with open('xgboost_attack_model.pkl', 'rb') as f:\n",
    "    model = pickle.load(f)\n",
    "\n",
    "with open('vectorizer.pkl', 'rb') as f:\n",
    "    vectorizer = pickle.load(f)\n"
   ]
  },
  {
   "cell_type": "markdown",
   "id": "132c6b1d",
   "metadata": {},
   "source": [
    "### Parse and Label the New Logs"
   ]
  },
  {
   "cell_type": "code",
   "execution_count": 3,
   "id": "b7414625",
   "metadata": {},
   "outputs": [
    {
     "ename": "NameError",
     "evalue": "name 'parse_logs_fixed' is not defined",
     "output_type": "error",
     "traceback": [
      "\u001b[1;31m---------------------------------------------------------------------------\u001b[0m",
      "\u001b[1;31mNameError\u001b[0m                                 Traceback (most recent call last)",
      "Cell \u001b[1;32mIn[3], line 3\u001b[0m\n\u001b[0;32m      1\u001b[0m \u001b[38;5;66;03m# Parse new logs\u001b[39;00m\n\u001b[0;32m      2\u001b[0m new_log_files \u001b[38;5;241m=\u001b[39m [\u001b[38;5;124m\"\u001b[39m\u001b[38;5;124mlogtest2.txt\u001b[39m\u001b[38;5;124m\"\u001b[39m]  \u001b[38;5;66;03m# Replace with the path of the new log file\u001b[39;00m\n\u001b[1;32m----> 3\u001b[0m df_new \u001b[38;5;241m=\u001b[39m \u001b[43mparse_logs_fixed\u001b[49m(new_log_files)\n\u001b[0;32m      4\u001b[0m df_new \u001b[38;5;241m=\u001b[39m label_logs(df_new)\n\u001b[0;32m      6\u001b[0m \u001b[38;5;66;03m# Vectorize the 'message' column of new logs\u001b[39;00m\n",
      "\u001b[1;31mNameError\u001b[0m: name 'parse_logs_fixed' is not defined"
     ]
    }
   ],
   "source": [
    "# Parse new logs\n",
    "new_log_files = [\"logtest2.txt\"]  # Replace with the path of the new log file\n",
    "df_new = parse_logs_fixed(new_log_files)\n",
    "df_new = label_logs(df_new)\n",
    "\n",
    "# Vectorize the 'message' column of new logs\n",
    "X_new = vectorizer.transform(df_new['message']).toarray()\n"
   ]
  },
  {
   "cell_type": "markdown",
   "id": "912926fa",
   "metadata": {},
   "source": [
    "### Predict Attack Types for New Logs"
   ]
  },
  {
   "cell_type": "code",
   "execution_count": 34,
   "id": "42f5e396",
   "metadata": {},
   "outputs": [
    {
     "name": "stdout",
     "output_type": "stream",
     "text": [
      "Predictions for New Logs:\n",
      "             timestamp     service  \\\n",
      "0    28012025 06:42:23        pptp   \n",
      "1    28012025 06:42:23    services   \n",
      "2    28012025 06:42:23        pptp   \n",
      "3    28012025 06:42:23    services   \n",
      "4    28012025 06:45:33         SMB   \n",
      "..                 ...         ...   \n",
      "635  30012025 01:33:52  log_sqlite   \n",
      "636  30012025 01:33:53  log_sqlite   \n",
      "637  30012025 01:33:53  log_sqlite   \n",
      "638  30012025 01:33:53  log_sqlite   \n",
      "639  30012025 01:37:08        http   \n",
      "\n",
      "                                               message predicted_attack_type  \n",
      "0    /dionaea/pptp/pptp.py:52: No config provided. ...            SIP Attack  \n",
      "1     /dionaea/services.py:46: Unable to start service          Other Attack  \n",
      "2    /dionaea/pptp/pptp.py:52: No config provided. ...            SIP Attack  \n",
      "3     /dionaea/services.py:46: Unable to start service          Other Attack  \n",
      "4    /dionaea/smb/smb.py:127: p.haslayer(Raw): b'PA...          Other Attack  \n",
      "..                                                 ...                   ...  \n",
      "635  /dionaea/logsql.py:747: no attackid for 172.17...     Log_SQLite Attack  \n",
      "636  /dionaea/logsql.py:747: no attackid for 172.17...     Log_SQLite Attack  \n",
      "637  /dionaea/logsql.py:747: no attackid for 172.17...     Log_SQLite Attack  \n",
      "638  /dionaea/logsql.py:747: no attackid for 172.17...     Log_SQLite Attack  \n",
      "639  /dionaea/http.py:133: max_num_fields is only s...           HTTP Attack  \n",
      "\n",
      "[640 rows x 4 columns]\n"
     ]
    }
   ],
   "source": [
    "# Predict attack types for the new logs\n",
    "y_new_pred = model.predict(X_new)\n",
    "\n",
    "# Map encoded predictions back to attack type labels\n",
    "attack_type_mapping = dict(enumerate(df_labeled['attack_type'].factorize()[1]))\n",
    "df_new['predicted_attack_type'] = [attack_type_mapping[pred] for pred in y_new_pred]\n",
    "\n",
    "# Display predictions\n",
    "print(\"Predictions for New Logs:\")\n",
    "print(df_new[['timestamp', 'service', 'message', 'predicted_attack_type']])\n"
   ]
  },
  {
   "cell_type": "markdown",
   "id": "fde59006",
   "metadata": {},
   "source": [
    "### Save Predictions to a CSV File"
   ]
  },
  {
   "cell_type": "code",
   "execution_count": 35,
   "id": "57a46193",
   "metadata": {},
   "outputs": [
    {
     "name": "stdout",
     "output_type": "stream",
     "text": [
      "Predictions saved to xgboost_predicted_new_logs.csv\n"
     ]
    }
   ],
   "source": [
    "# Save the predictions to a CSV file\n",
    "df_new.to_csv(\"xgboost_predicted_new_logs.csv\", index=False)\n",
    "print(\"Predictions saved to xgboost_predicted_new_logs.csv\")\n"
   ]
  },
  {
   "cell_type": "markdown",
   "id": "532ee5de",
   "metadata": {},
   "source": [
    "## Heatmap Representation"
   ]
  },
  {
   "cell_type": "code",
   "execution_count": 36,
   "id": "6ec204ab",
   "metadata": {},
   "outputs": [
    {
     "data": {
      "image/png": "[encoded data removed]",
      "text/plain": [
       "<Figure size 1000x600 with 2 Axes>"
      ]
     },
     "metadata": {},
     "output_type": "display_data"
    }
   ],
   "source": [
    "import pandas as pd\n",
    "import seaborn as sns\n",
    "import matplotlib.pyplot as plt\n",
    "\n",
    "# Load the labeled logs dataset\n",
    "df_labeled = pd.read_csv(\"labeled_logs.csv\")  # Ensure this file exists\n",
    "\n",
    "# Count the occurrences of each attack type\n",
    "attack_counts = df_labeled['attack_type'].value_counts().reset_index()\n",
    "attack_counts.columns = ['Attack Type', 'Count']\n",
    "\n",
    "# Pivot the data to create a heatmap-friendly format\n",
    "heatmap_data = attack_counts.pivot_table(index=\"Attack Type\", values=\"Count\")\n",
    "\n",
    "# Plot the heatmap\n",
    "plt.figure(figsize=(10, 6))\n",
    "sns.heatmap(heatmap_data, annot=True, fmt=\"d\", cmap=\"coolwarm\", linewidths=0.5)\n",
    "\n",
    "# Customization\n",
    "plt.title(\"Heatmap of Attack Types in Logs\")\n",
    "plt.xlabel(\"Frequency\")\n",
    "plt.ylabel(\"Attack Type\")\n",
    "plt.show()\n"
   ]
  },
  {
   "cell_type": "code",
   "execution_count": null,
   "id": "62899797",
   "metadata": {},
   "outputs": [],
   "source": []
  }
 ],
 "metadata": {
  "kernelspec": {
   "display_name": "Python 3 (ipykernel)",
   "language": "python",
   "name": "python3"
  },
  "language_info": {
   "codemirror_mode": {
    "name": "ipython",
    "version": 3
   },
   "file_extension": ".py",
   "mimetype": "text/x-python",
   "name": "python",
   "nbconvert_exporter": "python",
   "pygments_lexer": "ipython3",
   "version": "3.12.1"
  }
 },
 "nbformat": 4,
 "nbformat_minor": 5
}
