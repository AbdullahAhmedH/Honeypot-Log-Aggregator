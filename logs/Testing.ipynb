{
 "cells": [
  {
   "cell_type": "code",
   "execution_count": 10,
   "id": "e529034f-c5f7-4f70-b5c9-521256b14dfa",
   "metadata": {},
   "outputs": [],
   "source": [
    "import pandas as pd\n",
    "from xgboost import XGBClassifier\n",
    "import re\n",
    "import pickle\n",
    "from sklearn.feature_extraction.text import CountVectorizer\n",
    "from sklearn.model_selection import train_test_split\n",
    "from sklearn.metrics import classification_report, accuracy_score"
   ]
  },
  {
   "cell_type": "code",
   "execution_count": 19,
   "id": "b5b147c9-8cee-428d-b183-8a2bd7544322",
   "metadata": {},
   "outputs": [
    {
     "name": "stdout",
     "output_type": "stream",
     "text": [
      "Collecting seaborn\n",
      "  Using cached seaborn-0.13.2-py3-none-any.whl.metadata (5.4 kB)\n",
      "Requirement already satisfied: numpy!=1.24.0,>=1.20 in c:\\users\\abdullah ahmed h\\appdata\\roaming\\python\\python312\\site-packages (from seaborn) (1.26.4)\n",
      "Requirement already satisfied: pandas>=1.2 in c:\\python312\\lib\\site-packages (from seaborn) (2.2.3)\n",
      "Collecting matplotlib!=3.6.1,>=3.4 (from seaborn)\n",
      "  Using cached matplotlib-3.10.0-cp312-cp312-win_amd64.whl.metadata (11 kB)\n",
      "Collecting contourpy>=1.0.1 (from matplotlib!=3.6.1,>=3.4->seaborn)\n",
      "  Using cached contourpy-1.3.1-cp312-cp312-win_amd64.whl.metadata (5.4 kB)\n",
      "Collecting cycler>=0.10 (from matplotlib!=3.6.1,>=3.4->seaborn)\n",
      "  Using cached cycler-0.12.1-py3-none-any.whl.metadata (3.8 kB)\n",
      "Requirement already satisfied: fonttools>=4.22.0 in c:\\python312\\lib\\site-packages (from matplotlib!=3.6.1,>=3.4->seaborn) (4.55.8)\n",
      "Requirement already satisfied: kiwisolver>=1.3.1 in c:\\python312\\lib\\site-packages (from matplotlib!=3.6.1,>=3.4->seaborn) (1.4.8)\n",
      "Requirement already satisfied: packaging>=20.0 in c:\\users\\abdullah ahmed h\\appdata\\roaming\\python\\python312\\site-packages (from matplotlib!=3.6.1,>=3.4->seaborn) (24.2)\n",
      "Requirement already satisfied: pillow>=8 in c:\\users\\abdullah ahmed h\\appdata\\roaming\\python\\python312\\site-packages (from matplotlib!=3.6.1,>=3.4->seaborn) (10.3.0)\n",
      "Requirement already satisfied: pyparsing>=2.3.1 in c:\\python312\\lib\\site-packages (from matplotlib!=3.6.1,>=3.4->seaborn) (3.2.1)\n",
      "Requirement already satisfied: python-dateutil>=2.7 in c:\\python312\\lib\\site-packages (from matplotlib!=3.6.1,>=3.4->seaborn) (2.9.0.post0)\n",
      "Requirement already satisfied: pytz>=2020.1 in c:\\python312\\lib\\site-packages (from pandas>=1.2->seaborn) (2025.1)\n",
      "Requirement already satisfied: tzdata>=2022.7 in c:\\python312\\lib\\site-packages (from pandas>=1.2->seaborn) (2024.1)\n",
      "Requirement already satisfied: six>=1.5 in c:\\python312\\lib\\site-packages (from python-dateutil>=2.7->matplotlib!=3.6.1,>=3.4->seaborn) (1.16.0)\n",
      "Using cached seaborn-0.13.2-py3-none-any.whl (294 kB)\n",
      "Using cached matplotlib-3.10.0-cp312-cp312-win_amd64.whl (8.0 MB)\n",
      "Using cached contourpy-1.3.1-cp312-cp312-win_amd64.whl (220 kB)\n",
      "Using cached cycler-0.12.1-py3-none-any.whl (8.3 kB)\n",
      "Installing collected packages: cycler, contourpy, matplotlib, seaborn\n",
      "Successfully installed contourpy-1.3.1 cycler-0.12.1 matplotlib-3.10.0 seaborn-0.13.2\n"
     ]
    },
    {
     "name": "stderr",
     "output_type": "stream",
     "text": [
      "WARNING: Ignoring invalid distribution ~ip (C:\\Python312\\Lib\\site-packages)\n",
      "WARNING: Ignoring invalid distribution ~ip (C:\\Python312\\Lib\\site-packages)\n"
     ]
    }
   ],
   "source": [
    "!pip install seaborn --user"
   ]
  },
  {
   "cell_type": "code",
   "execution_count": 11,
   "id": "03f7d2df-17ca-4a4c-aef9-50f32687598e",
   "metadata": {},
   "outputs": [],
   "source": [
    "import re\n",
    "import pandas as pd\n",
    "\n",
    "def remove_ansi_codes(log_line):\n",
    "    # Remove ANSI escape sequences\n",
    "    return re.sub(r'\\x1b\\[[0-9;]*[a-zA-Z]', '', log_line)\n",
    "\n",
    "def parse_logs_fixed(log_files):\n",
    "    data = []\n",
    "    for file in log_files:\n",
    "        print(f\"Processing file: {file}\")\n",
    "        with open(file, 'r') as f:\n",
    "            for line in f:\n",
    "                # Remove ANSI escape codes\n",
    "                cleaned_line = remove_ansi_codes(line)\n",
    "                \n",
    "                # Extract relevant fields\n",
    "                timestamp = re.search(r\"\\[\\d{8}\\s+\\d{2}:\\d{2}:\\d{2}\\]\", cleaned_line)\n",
    "                service = re.search(r\"\\]\\s+(\\w+)\", cleaned_line)  # Service is the first word after timestamp\n",
    "                message = re.search(r\"(/dionaea/.*)\", cleaned_line)\n",
    "\n",
    "                # Append extracted data if all fields are present\n",
    "                if timestamp and service and message:\n",
    "                    data.append({\n",
    "                        \"timestamp\": timestamp.group(0).strip(\"[]\"),\n",
    "                        \"service\": service.group(1),\n",
    "                        \"message\": message.group(1)\n",
    "                    })\n",
    "    return pd.DataFrame(data)"
   ]
  },
  {
   "cell_type": "code",
   "execution_count": 12,
   "id": "ca04dab0-8481-4718-a6da-7410edea2a54",
   "metadata": {},
   "outputs": [],
   "source": [
    "def label_logs(df):\n",
    "    def label(row):\n",
    "        service = row['service'].lower()\n",
    "        message = row['message'].lower()\n",
    "\n",
    "        if 'http' in service or 'http' in message:\n",
    "            if 'sql' in message or 'injection' in message:\n",
    "                return 'SQL Injection'\n",
    "            elif 'xss' in message or 'script' in message:\n",
    "                return 'Cross-Site Scripting'\n",
    "            else:\n",
    "                return 'HTTP Attack'\n",
    "        elif 'ftp' in service or 'ftp' in message:\n",
    "            return 'FTP Attack'\n",
    "        elif 'sip' in service or 'pptp' in service or 'pptp' in message:\n",
    "            return 'SIP Attack'\n",
    "        elif 'ssh' in service or 'brute' in message:\n",
    "            return 'SSH Attack'\n",
    "        elif 'dns' in service or 'dns' in message:\n",
    "            return 'DNS Attack'\n",
    "        elif 'log_sqlite' in service or 'log_sqlite' in message:\n",
    "            return 'Log_SQLite Attack'\n",
    "        elif 'download' in message or 'malware' in message:\n",
    "            return 'Malware Download'\n",
    "        else:\n",
    "            return 'Other Attack'\n",
    "    \n",
    "    df['attack_type'] = df.apply(label, axis=1)\n",
    "    return df\n",
    "\n"
   ]
  },
  {
   "cell_type": "code",
   "execution_count": 13,
   "id": "262ca0b0-7dfe-4027-b65d-7d82b1dc2490",
   "metadata": {},
   "outputs": [
    {
     "name": "stderr",
     "output_type": "stream",
     "text": [
      "C:\\Python312\\Lib\\site-packages\\sklearn\\base.py:380: InconsistentVersionWarning: Trying to unpickle estimator CountVectorizer from version 1.2.1 when using version 1.6.1. This might lead to breaking code or invalid results. Use at your own risk. For more info please refer to:\n",
      "https://scikit-learn.org/stable/model_persistence.html#security-maintainability-limitations\n",
      "  warnings.warn(\n"
     ]
    }
   ],
   "source": [
    "# Load the saved model and vectorizer\n",
    "with open('xgboost_attack_model.pkl', 'rb') as f:\n",
    "    model = pickle.load(f)\n",
    "\n",
    "with open('vectorizer.pkl', 'rb') as f:\n",
    "    vectorizer = pickle.load(f)\n"
   ]
  },
  {
   "cell_type": "code",
   "execution_count": 14,
   "id": "7991283d-c991-499e-bbaf-65e0f964dbc9",
   "metadata": {},
   "outputs": [
    {
     "name": "stdout",
     "output_type": "stream",
     "text": [
      "Processing file: logtest2.txt\n"
     ]
    }
   ],
   "source": [
    "# Parse new logs\n",
    "new_log_files = [\"logtest2.txt\"]  # Replace with the path of the new log file\n",
    "df_new = parse_logs_fixed(new_log_files)\n",
    "df_new = label_logs(df_new)\n",
    "\n",
    "# Vectorize the 'message' column of new logs\n",
    "X_new = vectorizer.transform(df_new['message']).toarray()\n"
   ]
  },
  {
   "cell_type": "code",
   "execution_count": 15,
   "id": "69dc4725-d8f9-4363-b0ac-4ff8d8f1ddd3",
   "metadata": {},
   "outputs": [
    {
     "name": "stdout",
     "output_type": "stream",
     "text": [
      "Predictions for New Logs:\n",
      "              timestamp   service  \\\n",
      "0     28012025 06:47:11      pptp   \n",
      "1     28012025 06:47:11  services   \n",
      "2     28012025 06:47:11      pptp   \n",
      "3     28012025 06:47:11  services   \n",
      "4     28012025 06:50:51      http   \n",
      "...                 ...       ...   \n",
      "1324  30012025 08:13:35      util   \n",
      "1325  30012025 08:13:35      util   \n",
      "1326  30012025 08:13:35      util   \n",
      "1327  30012025 08:13:35      util   \n",
      "1328  30012025 08:13:36      util   \n",
      "\n",
      "                                                message predicted_attack_type  \n",
      "0     /dionaea/pptp/pptp.py:52: No config provided. ...            SIP Attack  \n",
      "1      /dionaea/services.py:46: Unable to start service          Other Attack  \n",
      "2     /dionaea/pptp/pptp.py:52: No config provided. ...            SIP Attack  \n",
      "3      /dionaea/services.py:46: Unable to start service          Other Attack  \n",
      "4     /dionaea/http.py:133: max_num_fields is only s...           HTTP Attack  \n",
      "...                                                 ...                   ...  \n",
      "1324  /dionaea/bistreams/2025-01-30/ (No space left ...            SIP Attack  \n",
      "1325  /dionaea/bistreams/2025-01-30/ (No space left ...            SIP Attack  \n",
      "1326  /dionaea/bistreams/2025-01-30/ (No space left ...            SIP Attack  \n",
      "1327  /dionaea/bistreams/2025-01-30/ (No space left ...            SIP Attack  \n",
      "1328  /dionaea/bistreams/2025-01-30/ (No space left ...            SIP Attack  \n",
      "\n",
      "[1329 rows x 4 columns]\n"
     ]
    }
   ],
   "source": [
    "# Predict attack types for the new logs\n",
    "y_new_pred = model.predict(X_new)\n",
    "\n",
    "# Map encoded predictions back to attack type labels\n",
    "attack_type_mapping = dict(enumerate(df_new['attack_type'].factorize()[1]))\n",
    "df_new['predicted_attack_type'] = [attack_type_mapping[pred] for pred in y_new_pred]\n",
    "\n",
    "# Display predictions\n",
    "print(\"Predictions for New Logs:\")\n",
    "print(df_new[['timestamp', 'service', 'message', 'predicted_attack_type']])\n"
   ]
  },
  {
   "cell_type": "code",
   "execution_count": 16,
   "id": "a401284c-5cf2-453e-ba63-aa1591d566f0",
   "metadata": {},
   "outputs": [
    {
     "name": "stdout",
     "output_type": "stream",
     "text": [
      "Predictions saved to xgboost_predicted_new_logs.csv\n"
     ]
    }
   ],
   "source": [
    "# Save the predictions to a CSV file\n",
    "df_new.to_csv(\"xgboost_predicted_new_logs.csv\", index=False)\n",
    "print(\"Predictions saved to xgboost_predicted_new_logs.csv\")\n"
   ]
  },
  {
   "cell_type": "code",
   "execution_count": 1,
   "id": "98f8cb8e-95aa-4d2c-a77c-9a45e6fcb9ff",
   "metadata": {},
   "outputs": [
    {
     "data": {
      "image/png": "[encoded data removed]",
      "text/plain": [
       "<Figure size 1000x600 with 2 Axes>"
      ]
     },
     "metadata": {},
     "output_type": "display_data"
    }
   ],
   "source": [
    "import pandas as pd\n",
    "import seaborn as sns\n",
    "import matplotlib.pyplot as plt\n",
    "\n",
    "# Load the labeled logs dataset\n",
    "df_labeled = pd.read_csv(\"xgboost_predicted_new_logs.csv\")  # Ensure this file exists\n",
    "\n",
    "# Count the occurrences of each attack type\n",
    "attack_counts = df_labeled['attack_type'].value_counts().reset_index()\n",
    "attack_counts.columns = ['Attack Type', 'Count']\n",
    "\n",
    "# Pivot the data to create a heatmap-friendly format\n",
    "heatmap_data = attack_counts.pivot_table(index=\"Attack Type\", values=\"Count\")\n",
    "\n",
    "# Plot the heatmap\n",
    "plt.figure(figsize=(10, 6))\n",
    "sns.heatmap(heatmap_data, annot=True, fmt=\".0f\", cmap=\"coolwarm\", linewidths=0.5)\n",
    "\n",
    "# Customization\n",
    "plt.title(\"Heatmap of Attack Types in Logs\")\n",
    "plt.xlabel(\"Frequency\")\n",
    "plt.ylabel(\"Attack Type\")\n",
    "plt.show()\n"
   ]
  }
 ],
 "metadata": {
  "kernelspec": {
   "display_name": "Python 3 (ipykernel)",
   "language": "python",
   "name": "python3"
  },
  "language_info": {
   "codemirror_mode": {
    "name": "ipython",
    "version": 3
   },
   "file_extension": ".py",
   "mimetype": "text/x-python",
   "name": "python",
   "nbconvert_exporter": "python",
   "pygments_lexer": "ipython3",
   "version": "3.12.1"
  }
 },
 "nbformat": 4,
 "nbformat_minor": 5
}
